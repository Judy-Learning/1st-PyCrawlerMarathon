{
 "cells": [
  {
   "cell_type": "markdown",
   "metadata": {},
   "source": [
    "# Ettoday 網路爬蟲實作練習\n",
    "\n",
    "\n",
    "* 能夠利用 Request + BeatifulSour 撰寫爬蟲，並存放到合適的資料結構\n"
   ]
  },
  {
   "cell_type": "markdown",
   "metadata": {},
   "source": [
    "## 作業目標\n",
    "\n",
    "根據範例 ，完成以下問題：\n",
    "\n",
    "* ① 取出今天所有的發文\n",
    "* ② 如果想要依照類別分類，怎麼儲存會比較好？\n",
    "* ③ 哪一個類別的文章最多\n",
    "\n",
    "\n"
   ]
  },
  {
   "cell_type": "markdown",
   "metadata": {},
   "source": [
    "### ① 取出今天所有的發文"
   ]
  },
  {
   "cell_type": "markdown",
   "metadata": {},
   "source": [
    "### find_all()介紹\n",
    "一、语法介绍\n",
    "find_all( name , attrs , recursive , string , **kwargs )\n",
    "find_all() 方法搜索当前tag的所有tag子节点,并判断是否符合过滤器的条件\n",
    "\n",
    "二、参数及用法介绍\n",
    "1、name参数\n",
    "这是最简单而直接的一种办法了，我么可以通过html标签名来索引；\n",
    "\n",
    "sb = soup.find_all('img')\n",
    "* ————————————————\n",
    "版权声明：本文为CSDN博主「yesNow_xiao」的原创文章，遵循 CC 4.0 BY-SA 版权协议，转载请附上原文出处链接及本声明。\n",
    "原文链接：https://blog.csdn.net/depers15/article/details/51934210"
   ]
  },
  {
   "cell_type": "markdown",
   "metadata": {},
   "source": [
    "### Beautiful Soup 介紹\n",
    "* Beautiful Soup是一個 Python 的函式庫模組，可以讓開發者僅須撰寫非常少量的程式碼，就可以快速解析網頁 HTML 碼\n",
    "* Beautiful Soup 的運作方式就是讀取 HTML 原始碼，自動進行解析並產生一個 BeautifulSoup 物件\n",
    "### prettify() 介紹\n",
    "print(soup.prettify()) #輸出排版後的 HTML 程式碼"
   ]
  },
  {
   "cell_type": "code",
   "execution_count": 11,
   "metadata": {
    "scrolled": false
   },
   "outputs": [
    {
     "name": "stdout",
     "output_type": "stream",
     "text": [
      "<title>新聞總覽 | ETtoday新聞雲</title>\n",
      "新聞總覽 | ETtoday新聞雲\n"
     ]
    }
   ],
   "source": [
    "import requests\n",
    "from bs4 import BeautifulSoup\n",
    "\n",
    "# 擷取\n",
    "url = 'https://www.ettoday.net/news/news-list.htm'\n",
    "r = requests.get(url)\n",
    "response = r.text\n",
    "\n",
    "# 解析\n",
    "soup = BeautifulSoup(response, \"html5lib\")\n",
    "# soup 就是解析完成後，所產生的結構樹物件，接下來所有資料的搜尋、萃取等操作都會透過這個物件來進行。\n",
    "\n",
    "# 輸出排版結果\n",
    "#print(soup.prettify())\n",
    "\n",
    "# 網頁標題 HTML 標籤(網頁標籤名字)\n",
    "title_tag = soup.title\n",
    "print(title_tag)\n",
    "\n",
    "#HTML 標籤節點的文字內容，可以透過 string 屬性存取：\n",
    "# 網頁的標題文字\n",
    "print(title_tag.string)"
   ]
  },
  {
   "cell_type": "markdown",
   "metadata": {},
   "source": [
    "### 搜尋節點\n",
    "我們可以使用 find_all 找出所有特定的 HTML 標籤節點，再以 Python 的迴圈來依序輸出每個超連結的文字"
   ]
  },
  {
   "cell_type": "raw",
   "metadata": {},
   "source": [
    "舉例:所有的超連結\n",
    "a_tags = soup.find_all('a')\n",
    "for tag in a_tags:\n",
    "  #輸出超連結的文字\n",
    "  print(tag.string)"
   ]
  },
  {
   "cell_type": "markdown",
   "metadata": {},
   "source": [
    "### 取出節點屬性\n",
    "若要取出 HTML 節點的各種屬性，可以使用 get，例如輸出每個超連結的網址（href 屬性）："
   ]
  },
  {
   "cell_type": "raw",
   "metadata": {},
   "source": [
    "for tag in a_tags:\n",
    "  # 輸出超連結網址\n",
    "  print(tag.get('href'))"
   ]
  },
  {
   "cell_type": "markdown",
   "metadata": {},
   "source": [
    "### class_ 簡介\n",
    "由於 class 是 Python 程式語言的保留字，所以 Beautiful Soup 改以 class_ 這個名稱代表 HTML 節點的 class 屬性"
   ]
  },
  {
   "cell_type": "markdown",
   "metadata": {},
   "source": [
    "### find_all('a')[-1]"
   ]
  },
  {
   "cell_type": "code",
   "execution_count": 22,
   "metadata": {},
   "outputs": [
    {
     "name": "stdout",
     "output_type": "stream",
     "text": [
      "小倉由菜《AV帝王》床戰特寫！愛愛玩超大...曾塞可樂+曼陀珠\n",
      "指針擺動槍法象徵國軍茁壯　三軍儀隊競賽空軍奪冠\n",
      "迅速判斷戰場環境　狙擊隊獨立作戰精準射擊\n",
      "驚奇隊長爆哭力挺《花木蘭》　網：放劉亦菲進漫威！\n",
      "林志穎曝Kimi 6個月大嬰兒照！　超萌憨笑「肚子被擠出N圈肉」\n",
      "快訊／北市驚傳民眾跳橋！無生命跡象...警消吊掛傷者中\n",
      "開業1年塌了埋70人！泉州欣佳酒店是「密切接觸隔離點」　34人被揹出血濺全身\n",
      "台女夾帶火鍋料「血餅」機場遭警逮捕　日本海關忍很久：她每週一次來\n",
      "大陸擔憂「境外輸入」！浙江新增8例全來自義大利　機場防堵成焦點\n",
      "林佳龍道賀江啟臣：期待在啟臣兄的領導下　促進朝野良性競爭\n",
      "影／鼠海豚擱淺馬祖東引岸邊　海浪衝擊「脫皮亡」海巡運回南竿\n",
      "瑪格羅比根本性感代名詞！這30個美艷造型讓人瘋狂愛上她\n",
      "蕾拉自爆「30歲前想生第二胎」！　開出「5大擇偶條件」：符合的歡迎私訊\n",
      "《枕上書》彩蛋超萌！白滾滾阿離「結伴數星星」…委屈吐原因笑翻\n",
      "東華帝君下凡開直播！　高偉光「全素顏+關掉美肌濾鏡」帥氣顏值網跪了\n",
      "中職／索沙沒想彈性係數　預言味全龍是勁旅\n",
      "抽菸殺精蟲！科學證實「9天然養精法」有效　低於這數值慘了\n",
      "江啟臣當選國民黨主席  國台辦：盼維護兩黨政治基礎\n",
      "快訊／ 江啟臣當選國民黨主席！　國台辦晚間發聲明回應了\n",
      "中職／官辦熱身賽轟不停　洪總：彈性還不錯\n",
      "SBL／領先24分險翻船　台銀瓊斯致勝切入下半季首戰勝\n",
      "三重少年飆車載妹！「拿口罩遮車牌」甩掉警後秒GG　後座妹全身傷\n",
      "「台灣人真的很可愛！」寫卡片感謝口罩國家隊東台精機　一秒感動\n",
      "前蝙蝠俠踢館漫威！克里斯汀貝爾確定加入《雷神索爾4》...最強反派來了\n",
      "中職／高國麟3分砲「準完全打擊」　悍將4轟11比6勝味全\n",
      "子瑜悄悄回台灣了！直播連線TWICE親口說：正在家裡隔離中\n",
      "影／官方證實：泉州欣佳酒店倒塌「埋壓70人」！驚悚空拍圖曝光　6樓瞬間變平地\n",
      "不斷更新／南歐馬爾他「首例確診！」　12歲女童義大利旅遊後感染\n",
      "HBL／淡商挑戰隊史第10冠　能仁尋求隊史二度連霸\n",
      "小舉動超加分！　「這5細節」暖男一定留意...忽略＝憑實力單身\n",
      "SBL／「閉門打」迎下半季　蔣淯安：像新賽季開始\n",
      "曝劉真「美到成學生時代傳奇」…　主播感性打氣：等妳再一次美麗微笑\n",
      "周曉涵搭小黃「眼鏡男拉開門衝上來」！　經紀人救她反被傷…驚嚇過程曝光\n",
      "提分手最怕一時衝動！不想後悔，先思考這3個問題\n",
      "HBL／正視勝利渴望　泰山要幫學長找回失去的冠軍\n",
      "一度懷疑自己染新冠肺炎？張上淳：錯誤解讀「只是有點呼吸道症狀」\n",
      "疫情衝擊砂石業進口　經濟部疏濬提升料源「日產量6000公噸」\n",
      "快訊／義大利民主黨領袖確診！臉書曝影片「我確定感染了…」　正在家中隔離\n",
      "快訊／福建泉州驚傳飯店倒塌「有人被埋」！疑似新冠肺炎隔離點\n",
      "「對於啟臣，我沒有恭喜」　李彥秀道出背後原因\n",
      "慈濟首度網路直播共修　3月8日早上全球線上祈福\n",
      "HBL／三衛不當機飆高分　領泰山進冠軍戰\n",
      "陳時中建議不要去！國家交響樂團回應了　宣布「歐日巡演暫緩」\n",
      "國民黨32位中常委完整名單出爐　其中14位具有民意基礎\n",
      "怕醫院有病毒！他復建DIY…每天狂貼「8片暖暖包」　醫曝超慘下場\n",
      "選舉前早發現「不對勁」！國家隊超前部署　陳其邁是最大關鍵！\n",
      "中職／蔣智賢、高國輝背靠背開轟　悍將8比2領先\n",
      "快訊／藍中常委當選名單出爐！徐榛蔚最高票、注入14位新血\n",
      "三立人事大地震！　新聞部副總疑遭「降職」李天怡親上火線說明\n",
      "妝・開箱／專櫃竟有未破千元的「佛心唇膏」極潤、又能蓋唇紋\n",
      "小賈斯汀砸百萬買貓「4個月就遺失」！　奇蹟找回暴瘦毛孩…溫馨故事讓網友哭了\n",
      "佐藤健《戀愛可以持續到天長地久》男友力帥炸！6看點激狂少女心…搶當天堂担\n",
      "美國影展停辦「1部台片淪受害戶」　克里斯伊凡「疫情拖累」行前6天喊卡\n",
      "林園縱火案邁入第3天…堂哥持續失聯中　檢警找人「想破頭」\n",
      "搭吊籠收工…馬達突炸開　1人10樓高噴飛、2人遭擊中「頭骨炸裂亡」\n",
      "SBL／巨塔布拉失靈？　加盟裕隆首戰狂輸26分\n",
      "大時代兒女！郝龍斌道出參選原因　游淑慧聽完後沉默了\n",
      "【黃寶慧】慧眼看天下／肺炎全球恐慌　華人成生物恐怖分子？　傳習近平組建生物國防軍\n",
      "中南部陷進金黃風暴中！最美賞花期倒數　全台黃花風鈴木打卡熱點\n",
      "銷量暴增40倍！除夕一通急電　台灣開啟口罩大作戰\n",
      "快訊／新竹3工人10層高墜落！2人當場爆頭慘死、1人無生命跡象\n",
      "影／中職／曾傳昇棒打索沙　還有超狂五星級守備\n",
      "媽媽爆料警察「偷打」小孩成傷　警還原真相：他酒後失控保護管束\n",
      "影／澳感染音樂家接觸擴大！　東吳音樂系緊急公告「停課14天」…3老師在名單中\n",
      "快訊／民進黨祝賀江啟臣當選：期望正向合作！盼朝野共同防疫\n",
      "HBL／泰山踏平東山　睽違6年再闖冠軍戰\n",
      "SBL／台啤下半季首戰又狂勝！　布拉加盟裕隆遭宰26分\n",
      "影／國民黨主席3／9交接　江啟臣：最短時間宣布人事佈局\n",
      "19歲妹卵巢癌末期！「熨斗燙肚皮」黑一片…苦挨40次化療\n",
      "中職／高國麟3分砲　悍將3局6比2領先味全龍\n",
      "賴清德「推特」開通了　第一PO歡迎好友AIT莫健訪台南\n",
      "卡達桌賽／莊智淵沒能再演逆轉秀　不敵英國好手無緣4強\n",
      "獵鷹也認真防新冠肺炎！　安東尼麥基握手完「秒掏出乾洗手」：我可不想被傳染\n",
      "《梨泰院》金多美連講5次「我愛你」劇迷跟著哭：朴敘俊太過分了\n",
      "呼叫可樂控！超逼真Coca Cola包直接背上身　罐裝、瓶裝全都有\n",
      "快訊／伊朗1天新增1076例、21死！　新科國會女議員染病亡\n",
      "江啟臣當選國民黨主席　盧秀燕期勉：團結眾人、任重道遠\n",
      "HBL／王玥媞「一路走來太辛苦」　淡商忍住潰堤：把眼淚留到明天\n",
      "莎拉波娃LA豪宅曝光　「寬闊海景收半片海洋」日式極簡美學放鬆賽前緊繃情緒\n",
      "韓國瑜恭喜江啟臣當選：今天是國民黨團結出發的好日子！\n",
      "中職／高國輝手感回溫　開季二軍警報暫解除\n",
      "新冠肺炎病毒來自哪裡？　賴清德給出答案！確定病毒來自「這裡」\n",
      "溫昇豪清晨搭車上山趕戲　大雨沖刷驚遇「神木斷裂」意外\n",
      "國民黨主席台中「挺自己人」！江啟臣得票率83.5%大勝郝龍斌\n",
      "江宜樺稱驅離太陽花抗議群眾「從沒後悔」　洪申翰批：只覺得一陣噁心\n",
      "國民黨主席補選　屏東縣江啟臣得票6成8領先\n",
      "游錫堃第一時間恭喜江啟臣：相信他帶領的國民會讓朝野獲更多共識\n",
      "天母前伯朗咖啡店　房東開價每月20萬元招租\n",
      "院內感染案34退休婦病況曝光！心臟衰竭嚴重還在加護病房\n",
      "中職／高國輝、高國麟串連安打　悍將3比2超前味全龍\n",
      "出國打球要忍受寂寞　林旺億業餘重返中職心境大不同\n",
      "7萌獸電力全開「雨刷搖尾」迎接　網友狂重播：拜託衝我來！\n",
      "苗栗從未政黨輪替！　王婉諭與曾玟學、宋國鼎組聯合服務處\n",
      "台灣國際蘭展延辦撤場　黃偉哲視察關心盼「遍地開花」成亮點\n",
      "江啟臣當選國民黨主席　卓榮泰：盼兩黨可以民主同行、台灣共贏\n",
      "台中投票率4成2　江啟臣在地優勢大贏郝龍斌8千票\n",
      "金曲歌后驚爆遭困上海「不能入境」！　無奈被迫停工...直播曝現況\n",
      "HBL／王玥媞砍27分退永仁　淡商暌違4年進決賽挑戰隊史第10冠\n",
      "中國國民黨黨主席選舉　台南市江啟臣以7成得票率領先\n",
      "吳尊隱婚出道15年…為保護老婆忍著！　說「9年沒碰女人、初戀嫁人了」真相終於曝光\n"
     ]
    }
   ],
   "source": [
    "for d in soup.find(class_=\"part_list_2\").find_all('h3'):\n",
    "    #print(d.find(class_=\"date\"), d.find_all('a')[-1].text)\n",
    "    print(d.find_all('a')[-1].text)"
   ]
  },
  {
   "cell_type": "markdown",
   "metadata": {},
   "source": [
    "### ② 如果想要依照類別分類，怎麼儲存會比較好？"
   ]
  },
  {
   "cell_type": "raw",
   "metadata": {},
   "source": [
    "#我的(全都一樣，怪怪的??)\n",
    "type_tags = soup.find_all()\n",
    "# 在h3裡面迭代\n",
    "for type_tag in soup.find(class_=\"part_list_2\").find_all('h3'):\n",
    "    print(d.find_all('em')[-1].text)"
   ]
  },
  {
   "cell_type": "markdown",
   "metadata": {},
   "source": [
    "### 字典\n",
    "* 整个字典包括在花括号 {} 中\n",
    "* 键一般是唯一的，如果重复最后的一个键值对会替换前面的，值不需要唯一。"
   ]
  },
  {
   "cell_type": "code",
   "execution_count": 64,
   "metadata": {},
   "outputs": [
    {
     "ename": "NameError",
     "evalue": "name 'b' is not defined",
     "output_type": "error",
     "traceback": [
      "\u001b[1;31m---------------------------------------------------------------------------\u001b[0m",
      "\u001b[1;31mNameError\u001b[0m                                 Traceback (most recent call last)",
      "\u001b[1;32m<ipython-input-64-49e5089246df>\u001b[0m in \u001b[0;36m<module>\u001b[1;34m\u001b[0m\n\u001b[1;32m----> 1\u001b[1;33m \u001b[0mdict\u001b[0m \u001b[1;33m=\u001b[0m \u001b[1;33m{\u001b[0m\u001b[1;34m'a'\u001b[0m\u001b[1;33m:\u001b[0m \u001b[1;36m1\u001b[0m\u001b[1;33m,\u001b[0m \u001b[0mb\u001b[0m\u001b[1;33m:\u001b[0m \u001b[1;36m2\u001b[0m\u001b[1;33m,\u001b[0m \u001b[1;34m'b'\u001b[0m\u001b[1;33m:\u001b[0m \u001b[1;36m3\u001b[0m\u001b[1;33m}\u001b[0m\u001b[1;33m\u001b[0m\u001b[1;33m\u001b[0m\u001b[0m\n\u001b[0m\u001b[0;32m      2\u001b[0m \u001b[0mdict\u001b[0m\u001b[1;33m[\u001b[0m\u001b[0mb\u001b[0m\u001b[1;33m]\u001b[0m\u001b[1;33m\u001b[0m\u001b[1;33m\u001b[0m\u001b[0m\n",
      "\u001b[1;31mNameError\u001b[0m: name 'b' is not defined"
     ]
    }
   ],
   "source": [
    "dict = {'a': 1, b: 2, 'b': 3}\n",
    "dict[b]"
   ]
  },
  {
   "cell_type": "code",
   "execution_count": 69,
   "metadata": {},
   "outputs": [
    {
     "data": {
      "text/plain": [
       "'3'"
      ]
     },
     "execution_count": 69,
     "metadata": {},
     "output_type": "execute_result"
    }
   ],
   "source": [
    "# 如果重复最后的一个键值对会替换前面的，值不需要唯一\n",
    "dict = {'a': 1, 'b': 2, 'b': '3'}\n",
    "dict['b']"
   ]
  },
  {
   "cell_type": "code",
   "execution_count": 61,
   "metadata": {},
   "outputs": [
    {
     "data": {
      "text/plain": [
       "{'影劇': ['吳尊隱婚出道15年…為保護老婆忍著！\\u3000說「9年沒碰女人、初戀嫁人了」真相終於曝光'],\n",
       " '軍武': ['迅速判斷戰場環境\\u3000狙擊隊獨立作戰精準射擊'],\n",
       " '社會': ['媽媽爆料警察「偷打」小孩成傷\\u3000警還原真相：他酒後失控保護管束'],\n",
       " '大陸': ['快訊／福建泉州驚傳飯店倒塌「有人被埋」！疑似新冠肺炎隔離點'],\n",
       " '國際': ['快訊／伊朗1天新增1076例、21死！\\u3000新科國會女議員染病亡'],\n",
       " '政治': ['中國國民黨黨主席選舉\\u3000台南市江啟臣以7成得票率領先'],\n",
       " '寵物動物': ['7萌獸電力全開「雨刷搖尾」迎接\\u3000網友狂重播：拜託衝我來！'],\n",
       " '時尚': ['呼叫可樂控！超逼真Coca Cola包直接背上身\\u3000罐裝、瓶裝全都有'],\n",
       " '體育': ['HBL／王玥媞砍27分退永仁\\u3000淡商暌違4年進決賽挑戰隊史第10冠'],\n",
       " '健康': ['19歲妹卵巢癌末期！「熨斗燙肚皮」黑一片…苦挨40次化療'],\n",
       " '生活': ['台灣國際蘭展延辦撤場\\u3000黃偉哲視察關心盼「遍地開花」成亮點'],\n",
       " '財經': ['疫情衝擊砂石業進口\\u3000經濟部疏濬提升料源「日產量6000公噸」'],\n",
       " '旅遊': ['中南部陷進金黃風暴中！最美賞花期倒數\\u3000全台黃花風鈴木打卡熱點'],\n",
       " '地方': ['快訊／新竹3工人10層高墜落！2人當場爆頭慘死、1人無生命跡象'],\n",
       " '房產雲': ['天母前伯朗咖啡店\\u3000房東開價每月20萬元招租']}"
      ]
     },
     "execution_count": 61,
     "metadata": {},
     "output_type": "execute_result"
    }
   ],
   "source": [
    "#參考\n",
    "type_tag =  soup.find(class_='part_list_2').find_all('h3')\n",
    "\n",
    "#空字典  \n",
    "val = {}\n",
    "for d in type_tag:\n",
    "    cat = d.find_all('em')[-1].text\n",
    "    tit = d.find_all('a')[-1].text\n",
    "    #if cat not in val.keys():\n",
    "    val[cat] = [tit]\n",
    "    #else:\n",
    "        #val[cat].append(tit)\n",
    "        \n",
    "val"
   ]
  },
  {
   "cell_type": "markdown",
   "metadata": {},
   "source": [
    "### ③ 哪一個類別的文章最多"
   ]
  },
  {
   "cell_type": "markdown",
   "metadata": {},
   "source": [
    "### len(dict)\n",
    "计算字典元素个数，即键的总数。"
   ]
  },
  {
   "cell_type": "code",
   "execution_count": 42,
   "metadata": {
    "scrolled": true
   },
   "outputs": [
    {
     "name": "stdout",
     "output_type": "stream",
     "text": [
      "影劇 2\n",
      "軍武 2\n",
      "社會 2\n",
      "大陸 2\n",
      "國際 2\n",
      "政治 2\n",
      "寵物動物 4\n",
      "時尚 2\n",
      "體育 2\n",
      "健康 2\n",
      "生活 2\n",
      "財經 2\n",
      "旅遊 2\n",
      "地方 2\n",
      "房產雲 3\n"
     ]
    }
   ],
   "source": [
    "for i in val:\n",
    "    print(i, len(i))"
   ]
  },
  {
   "cell_type": "code",
   "execution_count": null,
   "metadata": {},
   "outputs": [],
   "source": []
  },
  {
   "cell_type": "code",
   "execution_count": null,
   "metadata": {},
   "outputs": [],
   "source": []
  },
  {
   "cell_type": "code",
   "execution_count": null,
   "metadata": {},
   "outputs": [],
   "source": []
  }
 ],
 "metadata": {
  "kernelspec": {
   "display_name": "Python 3",
   "language": "python",
   "name": "python3"
  },
  "language_info": {
   "codemirror_mode": {
    "name": "ipython",
    "version": 3
   },
   "file_extension": ".py",
   "mimetype": "text/x-python",
   "name": "python",
   "nbconvert_exporter": "python",
   "pygments_lexer": "ipython3",
   "version": "3.7.3"
  }
 },
 "nbformat": 4,
 "nbformat_minor": 2
}
