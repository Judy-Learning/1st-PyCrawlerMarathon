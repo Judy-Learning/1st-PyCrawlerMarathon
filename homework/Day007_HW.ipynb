{
 "cells": [
  {
   "cell_type": "markdown",
   "metadata": {},
   "source": [
    "# HTTP 靜態網頁架構說明\n",
    "\n",
    "* 認識靜態網頁的溝通架構與運作原理\n",
    "* HTML、CSS、JavaScript 在網頁中扮演的角色\n",
    "* 網頁中定位資料的方法"
   ]
  },
  {
   "cell_type": "markdown",
   "metadata": {},
   "source": [
    "## 作業目標\n",
    "\n",
    "1. （簡答題）請問目前提到的這種基於 HTTP 一來一回的網頁傳輸方式，有哪些缺點及問題？\n",
    "2. （簡答題）網頁中使用的 JavaScipt 程式語言，跟我們一般使用的 Python 在執行上有什麼不同。\n"
   ]
  },
  {
   "cell_type": "markdown",
   "metadata": {},
   "source": [
    "### 1.（簡答題）請問目前提到的這種基於 HTTP 一來一回的網頁傳輸方式，有哪些缺點及問題？"
   ]
  },
  {
   "cell_type": "markdown",
   "metadata": {},
   "source": [
    "* 1.傳統的HTTP模式，存在著大量灰色中間環節，信息很容易被竊取，但HTTPS卻是通過認證用戶與伺服器，將數據準確地發送到客戶機與伺服器，並採用加密方式以防數據中途被盜取，大大降低了第三方竊取信息、篡改冒充身份的風險。\n",
    "* 2.HTTP被觀察出那些傳輸效率上的缺點呢？首先，要先指出來，傳輸效率的不彰。的確，今日網路的基礎設施足以支持大檔案的應用。但無法解決HTTP協定本質上所造成的「延遲（latency）」。\n",
    "* 3.(1) 傳輸速度慢,資料包大(Http協議中包含輔助應用資訊)\n",
    "    (2) 如實時互動,伺服器效能壓力大。\n",
    "    (3) 資料傳輸安全性差\n",
    "* 4.當HTTP伺服器端在處理請求時，整個TCP連線其實處於一個閒置的情況，客戶端所能做的事也只有等待，會有效率比較差的問題。"
   ]
  },
  {
   "cell_type": "markdown",
   "metadata": {},
   "source": [
    "### 2. （簡答題）網頁中使用的 JavaScipt 程式語言，跟我們一般使用的 Python 在執行上有什麼不同。"
   ]
  },
  {
   "cell_type": "markdown",
   "metadata": {},
   "source": [
    "#### Javascript\n",
    "* 物件導向是基於原型（prototype）的，物件的繼承是由原型（也是物件）建立出來的，由原型物件建立出來的物件繼承了原型鏈上的方法。\n",
    "* 設計之初是一種客戶端的指令碼語言，主要應用於瀏覽器，它的語法主要借鑑了C\n",
    "* 執行速度快\n",
    "* 標準程式庫有限\n",
    "* 應於用互動式網頁居多\n",
    "* 傳統的 HTTP 機制都是一個 Request 搭配一個 Response，如果畫面上一個小改變可能就需要重新發送 Request 並處理 Response。舉個例子：如果我的畫面上有很多張圖片，但只是想要改變一個小部分，但每次操作都必須全部圖片重新載入。\n",
    "* 執行在網頁瀏覽器上\n",
    "#### Python\n",
    "* 中規中矩的基於類（class）的繼承，並天然的支援多型（polymophine)\n",
    "* 支援網路、桌面應用程式的腳本語言\n",
    "* 語法簡潔\n",
    "* 執行速度慢\n",
    "* 標準程式庫龐大\n",
    "* (應用領域廣泛)其“優雅”，“明確”，“簡單”的設計而廣受歡迎，被應用於教育，科學計算，web開發等不同的場景\n",
    "* 執行在電腦的作業系統上"
   ]
  },
  {
   "cell_type": "code",
   "execution_count": null,
   "metadata": {},
   "outputs": [],
   "source": []
  }
 ],
 "metadata": {
  "kernelspec": {
   "display_name": "Python 3",
   "language": "python",
   "name": "python3"
  },
  "language_info": {
   "codemirror_mode": {
    "name": "ipython",
    "version": 3
   },
   "file_extension": ".py",
   "mimetype": "text/x-python",
   "name": "python",
   "nbconvert_exporter": "python",
   "pygments_lexer": "ipython3",
   "version": "3.7.3"
  }
 },
 "nbformat": 4,
 "nbformat_minor": 2
}
