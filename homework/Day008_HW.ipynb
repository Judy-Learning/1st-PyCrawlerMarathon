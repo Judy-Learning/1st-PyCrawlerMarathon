{
 "cells": [
  {
   "cell_type": "markdown",
   "metadata": {},
   "source": [
    "# 靜態網頁的資料爬蟲策略\n",
    "\n",
    "\n",
    "* 了解靜態網頁的資料爬蟲策略\n",
    "* 認識適用於靜態網頁爬蟲的相關套件工具：Request\n",
    "* 認識適用於靜態網頁爬蟲的相關套件工具：BeatifulSoup"
   ]
  },
  {
   "cell_type": "markdown",
   "metadata": {},
   "source": [
    "## 作業目標\n",
    "\n",
    "利用 Request + BeatifulSoup 爬取下列兩個網站內容並解析：\n",
    "\n",
    "1. Dcared 網址： https://www.dcard.tw/f\n",
    "2. 知乎： https://www.zhihu.com/explore\n",
    "\n",
    "並且回答下面問題：\n",
    "\n",
    "1. Request 取回之後該怎麼取出資料，資料型態是什麼？\n",
    "2. 為什麼要使用 BeatifulSoup 處理？處理後的型態是什麼？\n",
    "3. 觀察一下知乎回來的資料好像有點怪怪的，該怎麼解決？"
   ]
  },
  {
   "cell_type": "markdown",
   "metadata": {},
   "source": [
    "### 1. Dcard 網址： https://www.dcard.tw/f"
   ]
  },
  {
   "cell_type": "code",
   "execution_count": 41,
   "metadata": {},
   "outputs": [],
   "source": [
    "import requests\n",
    "from bs4 import BeautifulSoup"
   ]
  },
  {
   "cell_type": "code",
   "execution_count": 42,
   "metadata": {},
   "outputs": [],
   "source": [
    "#r = requests.get(\"https://www.dcard.tw/f\")\n",
    "#r ##403 Forbidden 是HTTP協定中的一個HTTP狀態碼（Status Code）。可以簡單的理解為沒有權限存取此站"
   ]
  },
  {
   "cell_type": "markdown",
   "metadata": {},
   "source": [
    "### 我的超怪，會有<Response [403]>\n",
    "解決方法\n",
    "* 1.增加Header\n",
    "* 2.代理IP\n",
    "* 3.終極方法: 想到把兩種方法結合起來。這樣就會大大提高請求的種類。 如在下面的程式碼中Header有13個，IP有6個，排列組合就有78中請求。從理論上來說， 組合數越多就越不容易被封。同時再加上請求延遲，是較好的解決方案。"
   ]
  },
  {
   "cell_type": "raw",
   "metadata": {},
   "source": [
    "#我的\n",
    "url = 'https://www.dcard.tw/f'\n",
    "\n",
    "#新增headers\n",
    "headers = {\"sec-fetch-dest\": \"empty\",\n",
    "           \"sec-fetch-mode\": \"no-cors\",\n",
    "           \"sec-fetch-site\": \"same-origin\",\n",
    "           \"user-agent\": \"Mozilla/5.0 (Windows NT 10.0; Win64; x64) AppleWebKit/537.36 (KHTML, like Gecko) Chrome/80.0.3987.122 Safari/537.36\"}\n",
    "\n",
    "r = requests.get(url = url, headers = headers)\n",
    "    \n",
    "r.encoding = 'utf-8'\n",
    "print(r.text[0:3000])"
   ]
  },
  {
   "cell_type": "code",
   "execution_count": 43,
   "metadata": {},
   "outputs": [
    {
     "name": "stdout",
     "output_type": "stream",
     "text": [
      "<!DOCTYPE html>\n",
      "<!--[if lt IE 7]> <html class=\"no-js ie6 oldie\" lang=\"en-US\"> <![endif]-->\n",
      "<!--[if IE 7]>    <html class=\"no-js ie7 oldie\" lang=\"en-US\"> <![endif]-->\n",
      "<!--[if IE 8]>    <html class=\"no-js ie8 oldie\" lang=\"en-US\"> <![endif]-->\n",
      "<!--[if gt IE 8]><!--> <html class=\"no-js\" lang=\"en-US\"> <!--<![endif]-->\n",
      "<head>\n",
      "<title>Attention Required! | Cloudflare</title>\n",
      "<meta name=\"captcha-bypass\" id=\"captcha-bypass\" />\n",
      "<meta charset=\"UTF-8\" />\n",
      "<meta http-equiv=\"Content-Type\" content=\"text/html; charset=UTF-8\" />\n",
      "<meta http-equiv=\"X-UA-Compatible\" content=\"IE=Edge,chrome=1\" />\n",
      "<meta name=\"robots\" content=\"noindex, nofollow\" />\n",
      "<meta name=\"viewport\" content=\"width=device-width,initial-scale=1,maximum-scale=1\" />\n",
      "<link rel=\"stylesheet\" id=\"cf_styles-css\" href=\"/cdn-cgi/styles/cf.errors.css\" type=\"text/css\" media=\"screen,projection\" />\n",
      "<!--[if lt IE 9]><link rel=\"stylesheet\" id='cf_styles-ie-css' href=\"/cdn-cgi/styles/cf.errors.ie.css\" type=\"text/css\" media=\"screen,projection\" /><![endif]-->\n",
      "<style type=\"text/css\">body{margin:0;padding:0}</style>\n",
      "\n",
      "\n",
      "<!--[if gte IE 10]><!--><script type=\"text/javascript\" src=\"/cdn-cgi/scripts/zepto.min.js\"></script><!--<![endif]-->\n",
      "<!--[if gte IE 10]><!--><script type=\"text/javascript\" src=\"/cdn-cgi/scripts/cf.common.js\"></script><!--<![endif]-->\n",
      "\n",
      "\n",
      "\n",
      "\n",
      "</head>\n",
      "<body>\n",
      "  <div id=\"cf-wrapper\">\n",
      "    <div class=\"cf-alert cf-alert-error cf-cookie-error\" id=\"cookie-alert\" data-translate=\"enable_cookies\">Please enable cookies.</div>\n",
      "    <div id=\"cf-error-details\" class=\"cf-error-details-wrapper\">\n",
      "      <div class=\"cf-wrapper cf-header cf-error-overview\">\n",
      "        <h1 data-translate=\"challenge_headline\">One more step</h1>\n",
      "        <h2 class=\"cf-subheadline\"><span data-translate=\"complete_sec_check\">Please complete the security check to access</span> www.dcard.tw</h2>\n",
      "      </div><!-- /.header -->\n",
      "      \n",
      "      <div class=\"cf-section cf-highlight cf-captcha-container\">\n",
      "        <div class=\"cf-wrapper\">\n",
      "          <div class=\"cf-columns two\">\n",
      "            <div class=\"cf-column\">\n",
      "            \n",
      "              <div class=\"cf-highlight-inverse cf-form-stacked\">\n",
      "                <form class=\"challenge-form\" id=\"challenge-form\" action=\"/f?__cf_chl_captcha_tk__=3ebf65c94ec9f49e6823ff64c0c89c83228fb557-1582632169-0-AbsvstcHZHLlEVd1VpCKZ37BGDRtDefFCD5akn_ZdJ2_L8emC7-KJTKd_cjU-wLITNKAAmqMrDT_cywqilt-5MT3Amt1opHOVgajPnSFa5qoI8lpwHmGSWGtWQf4Q4j8CF_pelRzKpxGQJr1Qla5PPgSxvvI9lK_bLAMVFOTXmb9gR4G2pxwn8RlKYXikYk6sjX4Rpv5dJKfsRMaJEKaRlCYFpQKkxhrWBlEioY2wUqIO1X2RVGNp1Bpa7ht1tVnSv5PPtA2WXn6CSmrGlMkM59jeOJU0eIv3eKO0pGylbCirywzWpAledrRKF3C9hE3WUM9ibEfYMWWTEkfRxNx3zwCWMgderGHVIgyP3sSQf_PvNNkhA6dGe8xJzFeOxnjhA\" method=\"POST\" enctype=\"application/x-www-form-urlencoded\">\n",
      "  <input type=\"hidden\" name=\"r\" value=\"de7e3cb0ba9f2003f24861159b31413283d59d1c-1582632169-0-AQL0eRyWPHCmiPgOPQcAScR9eDiptEnsKRoIbHqaM85KiIiGvTNq9AcZED9KzxmeQC6Yk9z3lw2cvB3HEqnBNaKf1eyZrUHuMnGn8or8dhmGVEEJr377U22oohlgZIkA8Uhbs9WeqSBElPUm193oTW72EFriiHMl0tj6YCrriqEIRY3uE6zyhlxMSlXt4zNIsuxYqvQEm1SvR+qGkx\n"
     ]
    }
   ],
   "source": [
    "#他人: 一樣與其他人結果不同@@\n",
    "url = 'https://www.dcard.tw/f'\n",
    "\n",
    "r = requests.get(url)\n",
    "r.encoding = 'utf-8'\n",
    "print(r.text[0:3000]) #通常令r.text = response"
   ]
  },
  {
   "cell_type": "code",
   "execution_count": 44,
   "metadata": {},
   "outputs": [
    {
     "name": "stdout",
     "output_type": "stream",
     "text": [
      "Request 取回之後該怎麼取出資料，資料型態是什麼？ =>\n"
     ]
    },
    {
     "data": {
      "text/plain": [
       "str"
      ]
     },
     "execution_count": 44,
     "metadata": {},
     "output_type": "execute_result"
    }
   ],
   "source": [
    "print('Request 取回之後該怎麼取出資料，資料型態是什麼？ =>')\n",
    "\n",
    "type(r.text)"
   ]
  },
  {
   "cell_type": "code",
   "execution_count": 45,
   "metadata": {},
   "outputs": [
    {
     "name": "stdout",
     "output_type": "stream",
     "text": [
      "為什麼要使用 BeatifulSoup 處理？處理後的型態是什麼？ => bs4.BeautifulSoup\n",
      "-----------------\n",
      "<class 'bs4.BeautifulSoup'>\n"
     ]
    }
   ],
   "source": [
    "print('為什麼要使用 BeatifulSoup 處理？處理後的型態是什麼？ => bs4.BeautifulSoup')\n",
    "\n",
    "html_doc = r.text #型態是 str\n",
    "\n",
    "#使用BeatifulSoup\n",
    "soup = BeautifulSoup(r.text, \"lxml\") \n",
    "soup\n",
    "print(\"-----------------\")\n",
    "print(type(soup))"
   ]
  },
  {
   "cell_type": "markdown",
   "metadata": {},
   "source": [
    "### 2. 知乎： https://www.zhihu.com/explore"
   ]
  },
  {
   "cell_type": "code",
   "execution_count": 46,
   "metadata": {},
   "outputs": [
    {
     "name": "stdout",
     "output_type": "stream",
     "text": [
      "<html>\r\n",
      "<head><title>400 Bad Request</title></head>\r\n",
      "<body bgcolor=\"white\">\r\n",
      "<center><h1>400 Bad Request</h1></center>\r\n",
      "<hr><center>openresty</center>\r\n",
      "</body>\r\n",
      "</html>\r\n",
      "\n"
     ]
    }
   ],
   "source": [
    "url = 'https://www.zhihu.com/explore'\n",
    "r = requests.get(url)\n",
    "r.encoding = 'utf-8'\n",
    "\n",
    "print(r.text[0:600])"
   ]
  },
  {
   "cell_type": "markdown",
   "metadata": {},
   "source": [
    "### 3. 觀察一下知乎回來的資料好像有點怪怪的，該怎麼解決？"
   ]
  },
  {
   "cell_type": "markdown",
   "metadata": {},
   "source": [
    "#### text檔即為\"html\""
   ]
  },
  {
   "cell_type": "code",
   "execution_count": 47,
   "metadata": {},
   "outputs": [
    {
     "name": "stdout",
     "output_type": "stream",
     "text": [
      "<!doctype html>\n",
      "<html lang=\"zh\" data-hairline=\"true\" data-theme=\"light\"><head><meta charSet=\"utf-8\"/><title data-react-helmet=\"true\">发现 - 知乎</title><meta name=\"viewport\" content=\"width=device-width,initial-scale=1,maximum-scale=1\"/><meta name=\"renderer\" content=\"webkit\"/><meta name=\"force-rendering\" content=\"webkit\"/><meta http-equiv=\"X-UA-Compatible\" content=\"IE=edge,chrome=1\"/><meta name=\"google-site-verification\" content=\"FTeR0c8arOPKh8c5DYh_9uu98_zJbaWw53J-Sch9MTg\"/><meta name=\"description\" property=\"og:description\" content=\"有问题，上知乎。知乎，可信赖的问答社区，以让每个人高效获得可信赖的解答为使命。知乎凭借认真、专业和友善的社区氛围，结构化、易获得的\n"
     ]
    },
    {
     "data": {
      "text/plain": [
       "str"
      ]
     },
     "execution_count": 47,
     "metadata": {},
     "output_type": "execute_result"
    }
   ],
   "source": [
    "import requests\n",
    "url = 'https://www.zhihu.com/explore'\n",
    "\n",
    "#加入headers\n",
    "headers = {\"user-agent\": \"Mozilla/5.0 (Windows NT 10.0; Win64; x64) AppleWebKit/537.36 (KHTML, like Gecko) Chrome/80.0.3987.122 Safari/537.36\"}\n",
    "\n",
    "\n",
    "r = requests.get(url, headers = headers)\n",
    "\n",
    "r.encoding = 'utf-8'\n",
    "#text檔即為\"html\"\n",
    "response = r.text\n",
    "print(response[0:600])\n",
    "type(response)"
   ]
  },
  {
   "cell_type": "markdown",
   "metadata": {},
   "source": [
    "### prettify()函數\n",
    "用prettify()函數將soup這個物件美化，soup就是的html_doc解析的結果，最後print將它印出來："
   ]
  },
  {
   "cell_type": "code",
   "execution_count": 48,
   "metadata": {},
   "outputs": [],
   "source": [
    "soup = BeautifulSoup(response, \"html5lib\")\n",
    "#print(soup.prettify())"
   ]
  },
  {
   "cell_type": "markdown",
   "metadata": {},
   "source": [
    "### find_all()\n",
    "找出所有的標籤\n",
    "* soup.find_all('p')"
   ]
  },
  {
   "cell_type": "code",
   "execution_count": 49,
   "metadata": {},
   "outputs": [],
   "source": [
    "#soup.find_all('a')"
   ]
  },
  {
   "cell_type": "code",
   "execution_count": 50,
   "metadata": {},
   "outputs": [
    {
     "name": "stdout",
     "output_type": "stream",
     "text": [
      "假装「MWC 2020」开幕了\n",
      "假如关于疫情的这一切，都不是真的\n",
      "什么？！你还想买这个！\n",
      "宅家出「新知」：硬核教学指南\n"
     ]
    }
   ],
   "source": [
    "posts = soup.find_all('a', class_='ExploreSpecialCard-title')\n",
    "for post in posts:\n",
    "    print(post.text)"
   ]
  },
  {
   "cell_type": "code",
   "execution_count": 51,
   "metadata": {},
   "outputs": [
    {
     "name": "stdout",
     "output_type": "stream",
     "text": [
      "iQOO 3 定义新速度新品发布会\n",
      "荣耀智慧全场景发布会\n",
      "华为终端产品与战略发布会\n",
      "不在此地\n",
      "不在此时\n",
      "不敢想象\n",
      "望眼欲穿啊，就想买个次时代主机玩\n",
      "他心心念念想要 iPad Pro，但我觉得太贵了\n",
      "老婆嫌我洗碗不干净，一定要买洗碗机\n",
      "开学须知\n",
      "考研全知道\n",
      "留学划重点\n"
     ]
    }
   ],
   "source": [
    "#我的\n",
    "words = soup.find_all('a', class_='ExploreSpecialCard-contentTag')\n",
    "for word in words:\n",
    "    print(word.text)"
   ]
  },
  {
   "cell_type": "code",
   "execution_count": null,
   "metadata": {},
   "outputs": [],
   "source": []
  }
 ],
 "metadata": {
  "kernelspec": {
   "display_name": "Python 3",
   "language": "python",
   "name": "python3"
  },
  "language_info": {
   "codemirror_mode": {
    "name": "ipython",
    "version": 3
   },
   "file_extension": ".py",
   "mimetype": "text/x-python",
   "name": "python",
   "nbconvert_exporter": "python",
   "pygments_lexer": "ipython3",
   "version": "3.7.3"
  }
 },
 "nbformat": 4,
 "nbformat_minor": 2
}
